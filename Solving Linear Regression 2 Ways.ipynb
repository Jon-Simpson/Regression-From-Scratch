{
 "cells": [
  {
   "cell_type": "code",
   "execution_count": 1,
   "metadata": {
    "collapsed": true
   },
   "outputs": [],
   "source": [
    "import numpy as np\n",
    "import matplotlib.pyplot as plt\n",
    "plt.style.use('seaborn')\n",
    "%matplotlib inline"
   ]
  },
  {
   "cell_type": "code",
   "execution_count": 2,
   "metadata": {
    "collapsed": true
   },
   "outputs": [],
   "source": [
    "mean, covariance = [5,12], [[1,-.75],[-.75,1]]\n",
    "n = 50\n",
    "samples = np.random.multivariate_normal(mean,covariance, n)"
   ]
  },
  {
   "cell_type": "code",
   "execution_count": 3,
   "metadata": {},
   "outputs": [
    {
     "data": {
      "text/plain": [
       "<matplotlib.collections.PathCollection at 0x10d552c50>"
      ]
     },
     "execution_count": 3,
     "metadata": {},
     "output_type": "execute_result"
    },
    {
     "data": {
      "image/png": "[encoded data removed]",
      "text/plain": [
       "<matplotlib.figure.Figure at 0x10ad57400>"
      ]
     },
     "metadata": {},
     "output_type": "display_data"
    }
   ],
   "source": [
    "plt.scatter(x=samples[:,0], y=samples[:,1])\n"
   ]
  },
  {
   "cell_type": "code",
   "execution_count": 4,
   "metadata": {
    "collapsed": true
   },
   "outputs": [],
   "source": [
    "X = np.array(samples[:,0])\n",
    "y = np.array(samples[:,1])\n"
   ]
  },
  {
   "cell_type": "code",
   "execution_count": 5,
   "metadata": {
    "collapsed": true
   },
   "outputs": [],
   "source": [
    "intercept = np.ones(len(X))\n",
    "X = np.column_stack((intercept, X))"
   ]
  },
  {
   "cell_type": "code",
   "execution_count": 6,
   "metadata": {
    "collapsed": true
   },
   "outputs": [],
   "source": [
    "\n",
    "# Closed form solution -> x-hat = (X'X)^-1*X'*y\n",
    "Xt = np.transpose(X)\n",
    "X_sym = np.dot(Xt, X)\n",
    "inverse = np.linalg.inv(X_sym)\n",
    "\n",
    "# Solution (X*X')^-1 * X' * y\n",
    "x_hat = np.dot(np.dot(inverse, Xt), y)"
   ]
  },
  {
   "cell_type": "code",
   "execution_count": 7,
   "metadata": {},
   "outputs": [
    {
     "data": {
      "text/plain": [
       "[<matplotlib.lines.Line2D at 0x10d655f98>]"
      ]
     },
     "execution_count": 7,
     "metadata": {},
     "output_type": "execute_result"
    },
    {
     "data": {
      "image/png": "[encoded data removed]",
      "text/plain": [
       "<matplotlib.figure.Figure at 0x10d52d630>"
      ]
     },
     "metadata": {},
     "output_type": "display_data"
    }
   ],
   "source": [
    "plt.scatter(x=samples[:,0], y=samples[:,1])\n",
    "plt.plot(X[:,1], np.dot(X,x_hat), color = 'purple')"
   ]
  },
  {
   "cell_type": "code",
   "execution_count": 8,
   "metadata": {
    "collapsed": true
   },
   "outputs": [],
   "source": [
    "# Gradient Descent Method\n",
    "\n",
    "\n",
    "# initialize weights\n",
    "weights = np.array(np.random.random(X.shape[1]))"
   ]
  },
  {
   "cell_type": "code",
   "execution_count": 9,
   "metadata": {},
   "outputs": [
    {
     "data": {
      "text/plain": [
       "[<matplotlib.lines.Line2D at 0x10d6320b8>]"
      ]
     },
     "execution_count": 9,
     "metadata": {},
     "output_type": "execute_result"
    },
    {
     "data": {
      "image/png": "[encoded data removed]",
      "text/plain": [
       "<matplotlib.figure.Figure at 0x10d632208>"
      ]
     },
     "metadata": {},
     "output_type": "display_data"
    }
   ],
   "source": [
    "plt.scatter(x=samples[:,0], y=samples[:,1])\n",
    "plt.plot(X[:,1], np.dot(X,weights), color = 'purple')"
   ]
  },
  {
   "cell_type": "code",
   "execution_count": 10,
   "metadata": {
    "collapsed": true
   },
   "outputs": [],
   "source": [
    "n, m = X.shape\n",
    "weights = np.array(np.random.random(m))\n",
    "\n"
   ]
  },
  {
   "cell_type": "code",
   "execution_count": 11,
   "metadata": {
    "collapsed": true
   },
   "outputs": [],
   "source": [
    "def gradient_descent(X, y, n, weights, alpha):\n",
    "    \n",
    "    weights_over_time = []\n",
    "    error_over_time = []\n",
    "    grad_norm = 1\n",
    "    while grad_norm > 0.001: \n",
    "        # Current estimation of y using linear regression model \n",
    "        predictions = X.dot(weights)\n",
    "        \n",
    "        # Current errors (loss) of the model for each data point\n",
    "        errors = predictions - y\n",
    "        \n",
    "        # Mean Squared Error, or average error across entire dataset (this is a typical model evaluation metric)\n",
    "        mse = (1/n)*np.sum(errors**2)\n",
    "        error_over_time.append(mse)\n",
    "        \n",
    "        # Compute gradient vector\n",
    "        gradients = np.dot(X.transpose(), errors) * (1/n)\n",
    "        \n",
    "        # Calculate the norm of the gradient vector \n",
    "        grad_norm = np.linalg.norm(gradients)\n",
    "        \n",
    "        # Change weights according to gradients and learning rate (alpha)\n",
    "        weights = weights - (alpha * gradients)\n",
    "        \n",
    "        # Calculate the new MSE\n",
    "        new_mse = (1/n)*np.sum((X.dot(weights)-y)**2)\n",
    "        weights_over_time.append(weights)\n",
    "        \n",
    "        # Checks whether the algorithm is diverging. If the error is rising, the learning rate it too high\n",
    "        if new_mse > mse:\n",
    "            print(\"ERROR: Gradient descent is diverging. Please lower the learning rate (alpha).\")\n",
    "            break\n",
    "    return (weights_over_time, error_over_time)"
   ]
  },
  {
   "cell_type": "code",
   "execution_count": 12,
   "metadata": {
    "collapsed": true
   },
   "outputs": [],
   "source": [
    "result = gradient_descent(X, y, n, weights, 0.03)\n"
   ]
  },
  {
   "cell_type": "code",
   "execution_count": 13,
   "metadata": {},
   "outputs": [
    {
     "data": {
      "text/plain": [
       "[<matplotlib.lines.Line2D at 0x10d7325f8>]"
      ]
     },
     "execution_count": 13,
     "metadata": {},
     "output_type": "execute_result"
    },
    {
     "data": {
      "image/png": "[encoded data removed]",
      "text/plain": [
       "<matplotlib.figure.Figure at 0x10d732630>"
      ]
     },
     "metadata": {},
     "output_type": "display_data"
    }
   ],
   "source": [
    "new_weights = result[0][-1]\n",
    "plt.scatter(x=samples[:,0], y=samples[:,1])\n",
    "plt.plot(X[:,1], np.dot(X,new_weights), color = 'purple')\n"
   ]
  },
  {
   "cell_type": "code",
   "execution_count": 14,
   "metadata": {},
   "outputs": [
    {
     "name": "stdout",
     "output_type": "stream",
     "text": [
      "Model Fit After Gradient Descent: \n",
      "\n",
      " Number of Epochs: 6427\n",
      " MSE of model: 0.282827\n",
      " Final Weights: [ 15.41888285  -0.65464157] \n",
      "\n"
     ]
    }
   ],
   "source": [
    "print(\"Model Fit After Gradient Descent: \\n\\n\", \n",
    "      \"Number of Epochs: %d\\n\" %len(result[0]), \n",
    "      \"MSE of model: %f\\n\" %result[1][-1], \n",
    "      \"Final Weights: %s \\n\" %result[0][-1])"
   ]
  },
  {
   "cell_type": "code",
   "execution_count": 15,
   "metadata": {},
   "outputs": [
    {
     "data": {
      "text/plain": [
       "(0, 10)"
      ]
     },
     "execution_count": 15,
     "metadata": {},
     "output_type": "execute_result"
    },
    {
     "data": {
      "image/png": "[encoded data removed]",
      "text/plain": [
       "<matplotlib.figure.Figure at 0x10d8c36d8>"
      ]
     },
     "metadata": {},
     "output_type": "display_data"
    }
   ],
   "source": [
    "plt.plot(result[1])\n",
    "plt.ylim((0,10))"
   ]
  },
  {
   "cell_type": "code",
   "execution_count": null,
   "metadata": {
    "collapsed": true
   },
   "outputs": [],
   "source": []
  },
  {
   "cell_type": "code",
   "execution_count": null,
   "metadata": {
    "collapsed": true
   },
   "outputs": [],
   "source": []
  }
 ],
 "metadata": {
  "kernelspec": {
   "display_name": "Python [conda root]",
   "language": "python",
   "name": "conda-root-py"
  },
  "language_info": {
   "codemirror_mode": {
    "name": "ipython",
    "version": 3
   },
   "file_extension": ".py",
   "mimetype": "text/x-python",
   "name": "python",
   "nbconvert_exporter": "python",
   "pygments_lexer": "ipython3",
   "version": "3.5.2"
  }
 },
 "nbformat": 4,
 "nbformat_minor": 2
}
